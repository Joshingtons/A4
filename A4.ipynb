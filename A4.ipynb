{
 "cells": [
  {
   "cell_type": "code",
   "execution_count": 1,
   "id": "b036c8b6-5248-463b-85d5-817fb9677167",
   "metadata": {},
   "outputs": [],
   "source": [
    "# Using geospatial Functions"
   ]
  },
  {
   "cell_type": "code",
   "execution_count": 2,
   "id": "f8812aba-4193-4a4d-b072-82d4c9faadac",
   "metadata": {},
   "outputs": [],
   "source": [
    "## Importing the Functions"
   ]
  },
  {
   "cell_type": "code",
   "execution_count": 3,
   "id": "83cd4095-66c4-4006-a485-090b19140537",
   "metadata": {},
   "outputs": [],
   "source": [
    "import geo_functions"
   ]
  },
  {
   "cell_type": "code",
   "execution_count": 4,
   "id": "16e08c49-fed4-4318-95c4-a4a558f021e0",
   "metadata": {},
   "outputs": [],
   "source": [
    "import math"
   ]
  },
  {
   "cell_type": "code",
   "execution_count": 9,
   "id": "902e9797-152a-4a7e-a641-325f5aefe665",
   "metadata": {},
   "outputs": [],
   "source": [
    "## Haversine distance"
   ]
  },
  {
   "cell_type": "code",
   "execution_count": 11,
   "id": "77460716-95a4-4097-b2b6-65c834363b90",
   "metadata": {},
   "outputs": [
    {
     "ename": "NameError",
     "evalue": "name 'haversine_distance' is not defined",
     "output_type": "error",
     "traceback": [
      "\u001b[1;31m---------------------------------------------------------------------------\u001b[0m",
      "\u001b[1;31mNameError\u001b[0m                                 Traceback (most recent call last)",
      "Cell \u001b[1;32mIn[11], line 7\u001b[0m\n\u001b[0;32m      4\u001b[0m \u001b[38;5;66;03m# Coordinate of Rome, Italy\u001b[39;00m\n\u001b[0;32m      5\u001b[0m lat2, lon2 \u001b[38;5;241m=\u001b[39m \u001b[38;5;241m41.8919300\u001b[39m, \u001b[38;5;241m12.5113300\u001b[39m\n\u001b[1;32m----> 7\u001b[0m distance \u001b[38;5;241m=\u001b[39m haversine_distance(lat1, lon1, lat2, lon2)\n\u001b[0;32m      8\u001b[0m \u001b[38;5;28mprint\u001b[39m(\u001b[38;5;124mf\u001b[39m\u001b[38;5;124m\"\u001b[39m\u001b[38;5;124mThe distance between Warsaw and Rome is approximately \u001b[39m\u001b[38;5;132;01m{\u001b[39;00mdistance\u001b[38;5;132;01m:\u001b[39;00m\u001b[38;5;124m.2f\u001b[39m\u001b[38;5;132;01m}\u001b[39;00m\u001b[38;5;124m kilometers.\u001b[39m\u001b[38;5;124m\"\u001b[39m)\n",
      "\u001b[1;31mNameError\u001b[0m: name 'haversine_distance' is not defined"
     ]
    }
   ],
   "source": [
    "# Coordinate of Warsaw, Poland\n",
    "lat1, lon1 = 52.2296756, 21.0122287\n",
    "\n",
    "# Coordinate of Rome, Italy\n",
    "lat2, lon2 = 41.8919300, 12.5113300\n",
    "\n",
    "distance = haversine_distance(lat1, lon1, lat2, lon2)\n",
    "print(f\"The distance between Warsaw and Rome is approximately {distance:.2f} kilometers.\")"
   ]
  },
  {
   "cell_type": "code",
   "execution_count": 12,
   "id": "f5d1d661-de30-4380-b8c5-e2f8c0ed16d9",
   "metadata": {},
   "outputs": [],
   "source": [
    "## Geographic Midpoint"
   ]
  },
  {
   "cell_type": "code",
   "execution_count": 13,
   "id": "1b427082-029d-4225-8649-952e1b13c7af",
   "metadata": {},
   "outputs": [
    {
     "ename": "NameError",
     "evalue": "name 'geographic_midpoint' is not defined",
     "output_type": "error",
     "traceback": [
      "\u001b[1;31m---------------------------------------------------------------------------\u001b[0m",
      "\u001b[1;31mNameError\u001b[0m                                 Traceback (most recent call last)",
      "Cell \u001b[1;32mIn[13], line 1\u001b[0m\n\u001b[1;32m----> 1\u001b[0m midpoint \u001b[38;5;241m=\u001b[39m geographic_midpoint(lat1, lon1, lat2, lon2)\n\u001b[0;32m      2\u001b[0m \u001b[38;5;28mprint\u001b[39m(\u001b[38;5;124mf\u001b[39m\u001b[38;5;124m\"\u001b[39m\u001b[38;5;124mThe geographic midpoint between Warsaw and Rome is approximately \u001b[39m\u001b[38;5;132;01m{\u001b[39;00mmidpoint\u001b[38;5;132;01m}\u001b[39;00m\u001b[38;5;124m.\u001b[39m\u001b[38;5;124m\"\u001b[39m)\n",
      "\u001b[1;31mNameError\u001b[0m: name 'geographic_midpoint' is not defined"
     ]
    }
   ],
   "source": [
    "midpoint = geographic_midpoint(lat1, lon1, lat2, lon2)\n",
    "print(f\"The geographic midpoint between Warsaw and Rome is approximately {midpoint}.\")"
   ]
  },
  {
   "cell_type": "code",
   "execution_count": 14,
   "id": "746b5505-ec7e-44f0-a5b6-4d8fc3cbd7df",
   "metadata": {},
   "outputs": [],
   "source": [
    "## Is Within Radius"
   ]
  },
  {
   "cell_type": "code",
   "execution_count": 15,
   "id": "a7e33f17-2170-48f9-9328-8448dbc06817",
   "metadata": {},
   "outputs": [
    {
     "ename": "NameError",
     "evalue": "name 'is_within_radius' is not defined",
     "output_type": "error",
     "traceback": [
      "\u001b[1;31m---------------------------------------------------------------------------\u001b[0m",
      "\u001b[1;31mNameError\u001b[0m                                 Traceback (most recent call last)",
      "Cell \u001b[1;32mIn[15], line 2\u001b[0m\n\u001b[0;32m      1\u001b[0m \u001b[38;5;66;03m# Check if Rome is within 1500km of Warsaw\u001b[39;00m\n\u001b[1;32m----> 2\u001b[0m radius_check \u001b[38;5;241m=\u001b[39m is_within_radius(lat1, lon1, lat2,lon2, \u001b[38;5;241m1500\u001b[39m)\n\u001b[0;32m      3\u001b[0m \u001b[38;5;28mprint\u001b[39m(\u001b[38;5;124mf\u001b[39m\u001b[38;5;124m\"\u001b[39m\u001b[38;5;124mRome is within 1500km of Warsaw: \u001b[39m\u001b[38;5;132;01m{\u001b[39;00mradius_check\u001b[38;5;132;01m}\u001b[39;00m\u001b[38;5;124m\"\u001b[39m)\n",
      "\u001b[1;31mNameError\u001b[0m: name 'is_within_radius' is not defined"
     ]
    }
   ],
   "source": [
    "# Check if Rome is within 1500km of Warsaw\n",
    "radius_check = is_within_radius(lat1, lon1, lat2,lon2, 1500)\n",
    "print(f\"Rome is within 1500km of Warsaw: {radius_check}\")"
   ]
  }
 ],
 "metadata": {
  "kernelspec": {
   "display_name": "Python 3 (ipykernel)",
   "language": "python",
   "name": "python3"
  },
  "language_info": {
   "codemirror_mode": {
    "name": "ipython",
    "version": 3
   },
   "file_extension": ".py",
   "mimetype": "text/x-python",
   "name": "python",
   "nbconvert_exporter": "python",
   "pygments_lexer": "ipython3",
   "version": "3.11.7"
  }
 },
 "nbformat": 4,
 "nbformat_minor": 5
}
